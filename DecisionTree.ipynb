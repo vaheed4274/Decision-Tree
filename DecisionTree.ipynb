{
 "cells": [
  {
   "cell_type": "code",
   "execution_count": 1,
   "id": "addressed-haven",
   "metadata": {},
   "outputs": [
    {
     "name": "stderr",
     "output_type": "stream",
     "text": [
      "Updating HTML index of packages in '.Library'\n",
      "\n",
      "Making 'packages.html' ...\n",
      " done\n",
      "\n",
      "Loading required package: grid\n",
      "\n",
      "Loading required package: mvtnorm\n",
      "\n",
      "Loading required package: modeltools\n",
      "\n",
      "Loading required package: stats4\n",
      "\n",
      "Loading required package: strucchange\n",
      "\n",
      "Loading required package: zoo\n",
      "\n",
      "\n",
      "Attaching package: ‘zoo’\n",
      "\n",
      "\n",
      "The following objects are masked from ‘package:base’:\n",
      "\n",
      "    as.Date, as.Date.numeric\n",
      "\n",
      "\n",
      "Loading required package: sandwich\n",
      "\n"
     ]
    }
   ],
   "source": [
    "install.packages(\"party\", repos='http://cran.us.r-project.org')\n",
    "library(\"party\")"
   ]
  },
  {
   "cell_type": "code",
   "execution_count": 2,
   "id": "compact-travel",
   "metadata": {},
   "outputs": [
    {
     "name": "stdout",
     "output_type": "stream",
     "text": [
      "  Id SepalLengthCm SepalWidthCm PetalLengthCm PetalWidthCm     Species\n",
      "1  1           5.1          3.5           1.4          0.2 Iris-setosa\n",
      "2  2           4.9          3.0           1.4          0.2 Iris-setosa\n",
      "3  3           4.7          3.2           1.3          0.2 Iris-setosa\n",
      "4  4           4.6          3.1           1.5          0.2 Iris-setosa\n",
      "5  5           5.0          3.6           1.4          0.2 Iris-setosa\n",
      "6  6           5.4          3.9           1.7          0.4 Iris-setosa\n",
      "  SepalLengthCm SepalWidthCm PetalLengthCm PetalWidthCm     Species\n",
      "1           5.1          3.5           1.4          0.2 Iris-setosa\n",
      "2           4.9          3.0           1.4          0.2 Iris-setosa\n",
      "3           4.7          3.2           1.3          0.2 Iris-setosa\n",
      "4           4.6          3.1           1.5          0.2 Iris-setosa\n",
      "5           5.0          3.6           1.4          0.2 Iris-setosa\n",
      "6           5.4          3.9           1.7          0.4 Iris-setosa\n"
     ]
    },
    {
     "data": {
      "text/plain": [
       " SepalLengthCm    SepalWidthCm   PetalLengthCm    PetalWidthCm  \n",
       " Min.   :4.300   Min.   :2.000   Min.   :1.000   Min.   :0.100  \n",
       " 1st Qu.:5.100   1st Qu.:2.800   1st Qu.:1.600   1st Qu.:0.300  \n",
       " Median :5.800   Median :3.000   Median :4.350   Median :1.300  \n",
       " Mean   :5.843   Mean   :3.054   Mean   :3.759   Mean   :1.199  \n",
       " 3rd Qu.:6.400   3rd Qu.:3.300   3rd Qu.:5.100   3rd Qu.:1.800  \n",
       " Max.   :7.900   Max.   :4.400   Max.   :6.900   Max.   :2.500  \n",
       "            Species  \n",
       " Iris-setosa    :50  \n",
       " Iris-versicolor:50  \n",
       " Iris-virginica :50  \n",
       "                     \n",
       "                     \n",
       "                     "
      ]
     },
     "metadata": {},
     "output_type": "display_data"
    },
    {
     "data": {
      "text/html": [
       "<style>\n",
       ".list-inline {list-style: none; margin:0; padding: 0}\n",
       ".list-inline>li {display: inline-block}\n",
       ".list-inline>li:not(:last-child)::after {content: \"\\00b7\"; padding: 0 .5ex}\n",
       "</style>\n",
       "<ol class=list-inline><li>150</li><li>5</li></ol>\n"
      ],
      "text/latex": [
       "\\begin{enumerate*}\n",
       "\\item 150\n",
       "\\item 5\n",
       "\\end{enumerate*}\n"
      ],
      "text/markdown": [
       "1. 150\n",
       "2. 5\n",
       "\n",
       "\n"
      ],
      "text/plain": [
       "[1] 150   5"
      ]
     },
     "metadata": {},
     "output_type": "display_data"
    }
   ],
   "source": [
    "irisData = read.csv(\"Iris.csv\",header=TRUE)\n",
    "print(head(irisData))\n",
    "#Data preprocessing\n",
    "irisData = irisData[,-c(1)]\n",
    "print(head(irisData))\n",
    "summary(irisData)\n",
    "dim(irisData)"
   ]
  },
  {
   "cell_type": "code",
   "execution_count": 3,
   "id": "reasonable-vienna",
   "metadata": {},
   "outputs": [
    {
     "name": "stdout",
     "output_type": "stream",
     "text": [
      "[1] 133   5\n",
      "[1] 17  5\n"
     ]
    }
   ],
   "source": [
    "#Spliting dataset\n",
    "ind = sample(2,nrow(irisData),replace=TRUE,prob=c(0.90,0.10))\n",
    "traindata = irisData[ind==1,]\n",
    "testdata = irisData[ind==2,]\n",
    "print(dim(traindata))\n",
    "print(dim(testdata))"
   ]
  },
  {
   "cell_type": "code",
   "execution_count": 4,
   "id": "latest-cover",
   "metadata": {},
   "outputs": [
    {
     "data": {
      "image/png": "[encoded data removed]",
      "text/plain": [
       "plot without title"
      ]
     },
     "metadata": {
      "image/png": {
       "height": 420,
       "width": 420
      }
     },
     "output_type": "display_data"
    }
   ],
   "source": [
    "#Model building\n",
    "DT = ctree(Species~.,data=traindata)\n",
    "plot(DT)"
   ]
  },
  {
   "cell_type": "code",
   "execution_count": 5,
   "id": "acute-surveillance",
   "metadata": {},
   "outputs": [
    {
     "name": "stdout",
     "output_type": "stream",
     "text": [
      " [1] Iris-setosa     Iris-setosa     Iris-setosa     Iris-setosa    \n",
      " [5] Iris-setosa     Iris-setosa     Iris-versicolor Iris-versicolor\n",
      " [9] Iris-versicolor Iris-virginica  Iris-versicolor Iris-virginica \n",
      "[13] Iris-virginica  Iris-virginica  Iris-virginica  Iris-virginica \n",
      "[17] Iris-virginica \n",
      "Levels: Iris-setosa Iris-versicolor Iris-virginica\n",
      "                 \n",
      "testpred          Iris-setosa Iris-versicolor Iris-virginica\n",
      "  Iris-setosa               6               0              0\n",
      "  Iris-versicolor           0               4              0\n",
      "  Iris-virginica            0               1              6\n",
      "[1] 94.11765\n"
     ]
    }
   ],
   "source": [
    "#validation\n",
    "testpred = predict(DT,newdata=testdata)\n",
    "print(testpred)\n",
    "confusionmatrix = table(testpred,testdata$Species)\n",
    "print(confusionmatrix)\n",
    "accuracy = (sum(diag(confusionmatrix))/sum(confusionmatrix))*100\n",
    "print(accuracy)"
   ]
  },
  {
   "cell_type": "code",
   "execution_count": 6,
   "id": "infectious-actress",
   "metadata": {},
   "outputs": [
    {
     "name": "stdout",
     "output_type": "stream",
     "text": [
      "[1] Iris-setosa\n",
      "Levels: Iris-setosa Iris-versicolor Iris-virginica\n"
     ]
    }
   ],
   "source": [
    "#Prediction\n",
    "x = data.frame(SepalLengthCm=5.1,SepalWidthCm=3.4,PetalLengthCm=1.4,PetalWidthCm=2.0)\n",
    "x_species = predict(DT,x)\n",
    "print(x_species)"
   ]
  },
  {
   "cell_type": "code",
   "execution_count": null,
   "id": "naval-african",
   "metadata": {},
   "outputs": [],
   "source": []
  }
 ],
 "metadata": {
  "kernelspec": {
   "display_name": "R",
   "language": "R",
   "name": "ir"
  },
  "language_info": {
   "codemirror_mode": "r",
   "file_extension": ".r",
   "mimetype": "text/x-r-source",
   "name": "R",
   "pygments_lexer": "r",
   "version": "3.6.3"
  }
 },
 "nbformat": 4,
 "nbformat_minor": 5
}
